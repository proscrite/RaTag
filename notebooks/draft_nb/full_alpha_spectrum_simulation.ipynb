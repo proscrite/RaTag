{
 "cells": [
  {
   "cell_type": "code",
   "execution_count": 5,
   "id": "f2a04dfb",
   "metadata": {},
   "outputs": [],
   "source": [
    "import numpy as np\n",
    "from scipy.stats import crystalball\n",
    "from scipy.optimize import curve_fit\n",
    "import matplotlib.pyplot as plt\n",
    "import pandas as pd"
   ]
  },
  {
   "cell_type": "markdown",
   "id": "ee953ed4",
   "metadata": {},
   "source": [
    "# Full spectrum"
   ]
  },
  {
   "cell_type": "code",
   "execution_count": 6,
   "id": "d5373bdc",
   "metadata": {},
   "outputs": [],
   "source": [
    "class AlphaDecay:\n",
    "    \"\"\"\n",
    "    Represents an alpha-decay isotope with time distribution and optional energy.\n",
    "    \"\"\"\n",
    "    def __init__(self, name, energy_keV, half_life_s, beta=None, m=None, scale=None,\n",
    "                 branching_ratio=1.0, next_decay=None):\n",
    "        self.name = name\n",
    "        self.energy_keV = energy_keV\n",
    "        self.half_life_s = half_life_s\n",
    "        self.branching_ratio = branching_ratio\n",
    "        self.next_decay = next_decay\n",
    "        # Only create Crystal Ball if energy provided\n",
    "        if energy_keV is not None:\n",
    "            self.cb_dist = crystalball(beta=beta, m=m, loc=energy_keV, scale=scale)\n",
    "        else:\n",
    "            self.cb_dist = None\n",
    "\n"
   ]
  },
  {
   "cell_type": "code",
   "execution_count": 7,
   "id": "78ca23b2",
   "metadata": {},
   "outputs": [],
   "source": [
    "def simulate_chain(start_decay, n_chains, observation_window_s=None, seed=None):\n",
    "    \"\"\"\n",
    "    Simulate n_chains decay chains from `start_decay`.\n",
    "    Returns list of events with keys ['chain','mode','time_s','energy_keV'].\n",
    "    If observation_window_s is set, only events with time_s <= window are recorded.\n",
    "    \"\"\"\n",
    "    rng = np.random.default_rng(seed)\n",
    "    events = []\n",
    "    for cid in range(n_chains):\n",
    "        t = 0.0\n",
    "        decay = start_decay\n",
    "        while decay:\n",
    "            # draw decay time\n",
    "            dt = rng.exponential(scale=decay.half_life_s / np.log(2))\n",
    "            t += dt\n",
    "            # stop if beyond observation window\n",
    "            if observation_window_s is not None and t > observation_window_s:\n",
    "                break\n",
    "            # branching decision\n",
    "            if rng.random() <= decay.branching_ratio:\n",
    "                # sample energy if available\n",
    "                if decay.cb_dist is not None:\n",
    "                    E = decay.cb_dist.ppf(rng.uniform(1e-9, 1 - 1e-9))\n",
    "                    events.append({'chain': cid,\n",
    "                                   'mode': decay.name,\n",
    "                                   'time_s': t,\n",
    "                                   'energy_keV': E})\n",
    "            # move to next decay in chain\n",
    "            decay = decay.next_decay\n",
    "    return events\n",
    "\n",
    "\n",
    "def plot_energy_spectrum(events, modes=None, bins=1000, xmin=None, xmax=None):\n",
    "    \"\"\"\n",
    "    Overlay energy histograms for specified decay modes.\n",
    "    \"\"\"\n",
    "    fig, ax = plt.subplots(figsize=(8, 5))\n",
    "    labels = sorted({e['mode'] for e in events})\n",
    "    for label, color in zip(labels, plt.cm.tab10.colors):\n",
    "        if modes and label not in modes:\n",
    "            continue\n",
    "        energies = [e['energy_keV'] for e in events if e['mode'] == label]\n",
    "        ax.hist(energies, bins=bins, range=(xmin, xmax), alpha=0.5,\n",
    "                label=label, color=color)\n",
    "    ax.set_xlabel(\"Energy (keV)\")\n",
    "    ax.set_ylabel(\"Counts\")\n",
    "    ax.legend()\n",
    "    ax.set_title(\"Simulated Alpha Energy Spectrum\")\n",
    "    plt.tight_layout()\n",
    "    return fig, ax\n",
    "\n",
    "\n",
    "def plot_time_differences(events, mode_pair=None, bins=100, tmax=None):\n",
    "    \"\"\"\n",
    "    Histogram of time differences between successive decays in each chain.\n",
    "    If mode_pair=(m1,m2), only include dt between those two modes.\n",
    "    \"\"\"\n",
    "    from collections import defaultdict\n",
    "    chains = defaultdict(list)\n",
    "    for e in events:\n",
    "        chains[e['chain']].append(e)\n",
    "    dt_list = []\n",
    "    for evs in chains.values():\n",
    "        evs_sorted = sorted(evs, key=lambda x: x['time_s'])\n",
    "        for i in range(len(evs_sorted)-1):\n",
    "            m1 = evs_sorted[i]['mode']\n",
    "            m2 = evs_sorted[i+1]['mode']\n",
    "            dt = evs_sorted[i+1]['time_s'] - evs_sorted[i]['time_s']\n",
    "            if mode_pair is None or (m1, m2) == mode_pair:\n",
    "                dt_list.append(dt)\n",
    "    fig, ax = plt.subplots(figsize=(6, 4))\n",
    "    ax.hist(dt_list, bins=bins, range=(0, tmax), alpha=0.7)\n",
    "    ax.set_xlabel(\"Time difference (s)\")\n",
    "    ax.set_ylabel(\"Counts\")\n",
    "    title = \"Time differences\"\n",
    "    if mode_pair:\n",
    "        title += f\" from {mode_pair[0]} to {mode_pair[1]}\"\n",
    "    ax.set_title(title)\n",
    "    plt.tight_layout()\n",
    "    return fig, ax"
   ]
  },
  {
   "cell_type": "code",
   "execution_count": 8,
   "id": "d9e9c762",
   "metadata": {},
   "outputs": [],
   "source": [
    "beta, m, scale = 0.98, 1.97, 3.43"
   ]
  },
  {
   "cell_type": "code",
   "execution_count": 9,
   "id": "28818f0f",
   "metadata": {},
   "outputs": [],
   "source": [
    "# Build chain including Pb-212 (no alpha), Bi-212, Po-212\n",
    "po212 = AlphaDecay(\"Po212\", 8954, half_life_s=0.299e-6,\n",
    "                    beta=beta, m=m, scale=scale)\n",
    "bi212 = AlphaDecay(\"Bi212\", 6207, half_life_s=60.55*60,\n",
    "                    beta=beta, m=m, scale=scale,\n",
    "                    branching_ratio=0.359, next_decay=po212)\n",
    "pb212 = AlphaDecay(\"Pb212\", None, half_life_s=10.64*3600,\n",
    "                    branching_ratio=1.0, next_decay=bi212)\n",
    "po216 = AlphaDecay(\"Po216\", 6906, half_life_s=0.145,\n",
    "                    beta=beta, m=m, scale=scale,\n",
    "                    next_decay=pb212)\n",
    "rn220 = AlphaDecay(\"Rn220\", 6405, half_life_s=55.6,\n",
    "                    beta=beta, m=m, scale=scale,\n",
    "                    next_decay=po216)\n",
    "ra224b = AlphaDecay(\"Ra224\", 5685, half_life_s=3.66*24*3600,\n",
    "                    beta=beta, m=m, scale=scale,\n",
    "                    next_decay=rn220)\n",
    "\n",
    "ra224b = AlphaDecay(\"Ra224_B\", 5448, half_life_s=3.66*24*3600,\n",
    "                    beta=beta, m=m, scale=scale,\n",
    "                    next_decay=rn220)\n",
    "ra224 = AlphaDecay(\"Ra224\", 5685, half_life_s=3.66*24*3600,\n",
    "                    beta=beta, m=m, scale=scale,\n",
    "                    next_decay=rn220)\n",
    "th228b = AlphaDecay(\"Th228_B\", 5340, half_life_s=1.9116*365.25*24*3600,\n",
    "                    beta=beta, m=m, scale=scale,\n",
    "                    next_decay=ra224)\n",
    "th228 = AlphaDecay(\"Th228\", 5423, half_life_s=1.9116*365.25*24*3600,\n",
    "                    beta=beta, m=m, scale=scale,\n",
    "                    next_decay=ra224)\n"
   ]
  },
  {
   "cell_type": "code",
   "execution_count": 10,
   "id": "81f2a6c2",
   "metadata": {},
   "outputs": [
    {
     "data": {
      "image/png": "[encoded data removed]",
      "text/plain": [
       "<Figure size 800x500 with 1 Axes>"
      ]
     },
     "metadata": {},
     "output_type": "display_data"
    }
   ],
   "source": [
    "observation_window_s = 7 * 24 * 3600  # 7 days in seconds\n",
    "# Simulate with a 2-day observation window\n",
    "events = simulate_chain(th228, n_chains=1_000_000,\n",
    "                        observation_window_s=observation_window_s, seed=2025)\n",
    "# Plot energy and time differences\n",
    "plot_energy_spectrum(events, xmin=5000, xmax=7000)\n",
    "plt.show()\n"
   ]
  }
 ],
 "metadata": {
  "kernelspec": {
   "display_name": ".venv",
   "language": "python",
   "name": "python3"
  },
  "language_info": {
   "codemirror_mode": {
    "name": "ipython",
    "version": 3
   },
   "file_extension": ".py",
   "mimetype": "text/x-python",
   "name": "python",
   "nbconvert_exporter": "python",
   "pygments_lexer": "ipython3",
   "version": "3.9.6"
  }
 },
 "nbformat": 4,
 "nbformat_minor": 5
}
