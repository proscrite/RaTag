{
 "cells": [
  {
   "cell_type": "code",
   "execution_count": null,
   "id": "5ddb8505",
   "metadata": {},
   "outputs": [],
   "source": [
    "import sys\n",
    "print(\"interpreter:\", sys.executable)"
   ]
  },
  {
   "cell_type": "code",
   "execution_count": null,
   "id": "ca64063e",
   "metadata": {
    "vscode": {
     "languageId": "plaintext"
    }
   },
   "outputs": [],
   "source": [
    ">>> interpreter: /Users/pabloherrero/sabat/RaTagging/.venv/bin/python"
   ]
  },
  {
   "cell_type": "code",
   "execution_count": null,
   "id": "70ee5f0a",
   "metadata": {
    "vscode": {
     "languageId": "plaintext"
    }
   },
   "outputs": [],
   "source": [
    "%pip install -e /Users/pabloherrero/sabat/RaTagging"
   ]
  },
  {
   "cell_type": "code",
   "execution_count": null,
   "id": "58d1c8bb",
   "metadata": {
    "vscode": {
     "languageId": "plaintext"
    }
   },
   "outputs": [],
   "source": [
    "Obtaining file:///Users/pabloherrero/sabat/RaTagging\n",
    "Collecting numpy>=1.20\n",
    "  Downloading numpy-2.0.2-cp39-cp39-macosx_14_0_arm64.whl (5.3 MB)\n",
    "\u001b[K     |████████████████████████████████| 5.3 MB 1.1 MB/s eta 0:00:01\n",
    "\u001b[?25hCollecting pandas\n",
    "  Downloading pandas-2.2.3-cp39-cp39-macosx_11_0_arm64.whl (11.3 MB)\n",
    "\u001b[K     |████████████████████████████████| 11.3 MB 6.5 MB/s eta 0:00:01\n",
    "\u001b[?25hCollecting scikit-learn\n",
    "  Downloading scikit_learn-1.6.1-cp39-cp39-macosx_12_0_arm64.whl (11.1 MB)\n",
    "\u001b[K     |████████████████████████████████| 11.1 MB 4.3 MB/s eta 0:00:01\n",
    "\u001b[?25hCollecting scipy\n",
    "  Downloading scipy-1.13.1-cp39-cp39-macosx_12_0_arm64.whl (30.3 MB)\n",
    "\u001b[K     |████████████████████████████████| 30.3 MB 6.8 MB/s eta 0:00:01\n",
    "\u001b[?25hCollecting matplotlib\n",
    "  Downloading matplotlib-3.9.4-cp39-cp39-macosx_11_0_arm64.whl (7.8 MB)\n",
    "\u001b[K     |████████████████████████████████| 7.8 MB 5.4 MB/s eta 0:00:01\n",
    "\u001b[?25hCollecting seaborn\n",
    "  Downloading seaborn-0.13.2-py3-none-any.whl (294 kB)\n",
    "\u001b[K     |████████████████████████████████| 294 kB 6.1 MB/s eta 0:00:01\n",
    "\u001b[?25hRequirement already satisfied: packaging>=20.0 in /Users/pabloherrero/sabat/RaTagging/.venv/lib/python3.9/site-packages (from matplotlib->RaTag==0.1) (25.0)\n",
    "Requirement already satisfied: python-dateutil>=2.7 in /Users/pabloherrero/sabat/RaTagging/.venv/lib/python3.9/site-packages (from matplotlib->RaTag==0.1) (2.9.0.post0)\n",
    "Collecting kiwisolver>=1.3.1\n",
    "  Downloading kiwisolver-1.4.7-cp39-cp39-macosx_11_0_arm64.whl (64 kB)\n",
    "\u001b[K     |████████████████████████████████| 64 kB 5.3 MB/s eta 0:00:01\n",
    "\u001b[?25hCollecting fonttools>=4.22.0\n",
    "  Downloading fonttools-4.58.0-cp39-cp39-macosx_10_9_universal2.whl (2.7 MB)\n",
    "\u001b[K     |████████████████████████████████| 2.7 MB 6.5 MB/s eta 0:00:01\n",
    "\u001b[?25hCollecting cycler>=0.10\n",
    "  Downloading cycler-0.12.1-py3-none-any.whl (8.3 kB)\n",
    "Collecting importlib-resources>=3.2.0\n",
    "  Downloading importlib_resources-6.5.2-py3-none-any.whl (37 kB)\n",
    "Collecting pyparsing>=2.3.1\n",
    "  Downloading pyparsing-3.2.3-py3-none-any.whl (111 kB)\n",
    "\u001b[K     |████████████████████████████████| 111 kB 6.4 MB/s eta 0:00:01\n",
    "\u001b[?25hCollecting contourpy>=1.0.1\n",
    "  Downloading contourpy-1.3.0-cp39-cp39-macosx_11_0_arm64.whl (249 kB)\n",
    "\u001b[K     |████████████████████████████████| 249 kB 6.3 MB/s eta 0:00:01\n",
    "\u001b[?25hCollecting pillow>=8\n",
    "  Downloading pillow-11.2.1-cp39-cp39-macosx_11_0_arm64.whl (3.0 MB)\n",
    "\u001b[K     |████████████████████████████████| 3.0 MB 6.7 MB/s eta 0:00:01\n",
    "\u001b[?25hRequirement already satisfied: zipp>=3.1.0 in /Users/pabloherrero/sabat/RaTagging/.venv/lib/python3.9/site-packages (from importlib-resources>=3.2.0->matplotlib->RaTag==0.1) (3.22.0)\n",
    "Requirement already satisfied: six>=1.5 in /Users/pabloherrero/sabat/RaTagging/.venv/lib/python3.9/site-packages (from python-dateutil>=2.7->matplotlib->RaTag==0.1) (1.17.0)\n",
    "Collecting tzdata>=2022.7\n",
    "  Downloading tzdata-2025.2-py2.py3-none-any.whl (347 kB)\n",
    "\u001b[K     |████████████████████████████████| 347 kB 6.3 MB/s eta 0:00:01\n",
    "\u001b[?25hCollecting pytz>=2020.1\n",
    "  Downloading pytz-2025.2-py2.py3-none-any.whl (509 kB)\n",
    "\u001b[K     |████████████████████████████████| 509 kB 6.3 MB/s eta 0:00:01\n",
    "\u001b[?25hCollecting joblib>=1.2.0\n",
    "  Downloading joblib-1.5.1-py3-none-any.whl (307 kB)\n",
    "\u001b[K     |████████████████████████████████| 307 kB 6.2 MB/s eta 0:00:01\n",
    "\u001b[?25hCollecting threadpoolctl>=3.1.0\n",
    "  Downloading threadpoolctl-3.6.0-py3-none-any.whl (18 kB)\n",
    "Installing collected packages: numpy, tzdata, pytz, pyparsing, pillow, kiwisolver, importlib-resources, fonttools, cycler, contourpy, threadpoolctl, scipy, pandas, matplotlib, joblib, seaborn, scikit-learn, RaTag\n",
    "  Attempting uninstall: RaTag\n",
    "    Found existing installation: RaTag 0.1\n",
    "    Uninstalling RaTag-0.1:\n",
    "      Successfully uninstalled RaTag-0.1\n",
    "  Running setup.py develop for RaTag\n",
    "Successfully installed RaTag-0.1 contourpy-1.3.0 cycler-0.12.1 fonttools-4.58.0 importlib-resources-6.5.2 joblib-1.5.1 kiwisolver-1.4.7 matplotlib-3.9.4 numpy-2.0.2 pandas-2.2.3 pillow-11.2.1 pyparsing-3.2.3 pytz-2025.2 scikit-learn-1.6.1 scipy-1.13.1 seaborn-0.13.2 threadpoolctl-3.6.0 tzdata-2025.2\n",
    "\u001b[33mWARNING: You are using pip version 21.2.4; however, version 25.1.1 is available.\n",
    "You should consider upgrading via the '/Users/pabloherrero/sabat/RaTagging/.venv/bin/python -m pip install --upgrade pip' command.\u001b[0m\n",
    "Note: you may need to restart the kernel to use updated packages."
   ]
  }
 ],
 "metadata": {
  "language_info": {
   "name": "python"
  }
 },
 "nbformat": 4,
 "nbformat_minor": 5
}
