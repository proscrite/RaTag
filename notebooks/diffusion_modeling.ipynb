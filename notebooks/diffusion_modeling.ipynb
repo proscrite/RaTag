{
 "cells": [
  {
   "cell_type": "code",
   "execution_count": null,
   "id": "90dc7aab",
   "metadata": {},
   "outputs": [],
   "source": [
    "%load_ext autoreload\n",
    "%autoreload 2"
   ]
  },
  {
   "cell_type": "code",
   "execution_count": null,
   "id": "93ca00e2",
   "metadata": {},
   "outputs": [],
   "source": [
    "base_dir = Path('/Users/pabloherrero/sabat/RaTagging/scope_data/waveforms/RUN5_EL2375Vcm_5GSsec')"
   ]
  }
 ],
 "metadata": {
  "language_info": {
   "name": "python"
  }
 },
 "nbformat": 4,
 "nbformat_minor": 5
}
