{
 "cells": [
  {
   "cell_type": "code",
   "execution_count": null,
   "id": "84ca2ae2",
   "metadata": {},
   "outputs": [],
   "source": [
    "import numpy as np\n",
    "import matplotlib.pyplot as plt\n",
    "import pandas as pd\n",
    "from glob import glob\n",
    "from RaTag.scripts.wfm2read_fast import wfm2read\n",
    "from RaTag.scripts.wfm2spectra import get_peak_volts, histogram_voltages"
   ]
  }
 ],
 "metadata": {
  "language_info": {
   "name": "python"
  }
 },
 "nbformat": 4,
 "nbformat_minor": 5
}
