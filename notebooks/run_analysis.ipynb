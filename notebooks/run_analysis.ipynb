{
 "cells": [
  {
   "cell_type": "markdown",
   "id": "c093db68",
   "metadata": {},
   "source": [
    "# Complete RaTag Analysis Pipeline\n",
    "\n",
    "This notebook orchestrates the complete analysis workflow:\n",
    "1. **Run Preparation**: Load data, estimate S1 times, compute fields and transport properties\n",
    "2. **X-ray Classification**: Identify and extract X-ray events for calibration\n",
    "3. **Ion S2 Integration**: Integrate Ra recoil S2 signals and fit distributions\n",
    "4. **Calibration & Recombination**: Use X-rays to calibrate energy scale and compute recombination\n",
    "\n",
    "All processing is done through modular pipeline functions with functional programming principles."
   ]
  },
  {
   "cell_type": "code",
   "execution_count": null,
   "id": "f12ff79b",
   "metadata": {},
   "outputs": [],
   "source": [
    "%load_ext autoreload\n",
    "%autoreload 2"
   ]
  },
  {
   "cell_type": "code",
   "execution_count": null,
   "id": "dedd36bd",
   "metadata": {},
   "outputs": [],
   "source": [
    "from pathlib import Path\n",
    "import numpy as np\n",
    "import matplotlib.pyplot as plt\n",
    "\n",
    "from RaTag.datatypes import Run\n",
    "from RaTag.config import IntegrationConfig, FitConfig\n",
    "import RaTag.pipeline as pipeline\n",
    "import RaTag.plotting as plotting"
   ]
  },
  {
   "cell_type": "markdown",
   "id": "56c926d9",
   "metadata": {},
   "source": [
    "## 1. Define Run Parameters"
   ]
  },
  {
   "cell_type": "code",
   "execution_count": null,
   "id": "b75f135f",
   "metadata": {},
   "outputs": [],
   "source": [
    "# Set data directory\n",
    "base_dir = Path('/Volumes/KINGSTON/RaTag_data/RUN8_EL2350Vcm_5GSsec')\n",
    "\n",
    "# Define run parameters\n",
    "run8 = Run(\n",
    "    root_directory = base_dir,\n",
    "    run_id = \"RUN8\",\n",
    "    el_field = 2375,            # V/cm\n",
    "    target_isotope = \"Th228\",\n",
    "    pressure = 2.0,             # bar\n",
    "    temperature = 297,          # K\n",
    "    sampling_rate = 5e9,        # Hz (5 GS/s for FastFrame)\n",
    "    el_gap = 0.8,               # cm\n",
    "    drift_gap = 1.4,            # cm\n",
    "    width_s2 = 20,              # µs\n",
    "    \n",
    "    # Calibration constants\n",
    "    W_value = 22.0,             # eV per e-ion pair (Xe @ 2 bar)\n",
    "    E_gamma_xray = 12.3e3,      # eV (Th-228 X-ray energy)\n",
    ")"
   ]
  },
  {
   "cell_type": "markdown",
   "id": "e76849ff",
   "metadata": {},
   "source": [
    "## 2. Prepare Run\n",
    "\n",
    "This step:\n",
    "- Computes gas density from pressure/temperature\n",
    "- Loads all measurement sets from directory structure\n",
    "- Estimates S1 time for each set\n",
    "- Computes drift/EL fields and transport properties\n",
    "\n",
    "**Testing mode**: Set `nfiles` to process only a subset of files per set."
   ]
  },
  {
   "cell_type": "code",
   "execution_count": null,
   "id": "fdd02ae5",
   "metadata": {},
   "outputs": [],
   "source": [
    "# For testing: uncomment to limit to 5 files per set\n",
    "# run8 = pipeline.prepare_run(run8, n_batches=1, batch_size=20, flag_plot=False, nfiles=5)\n",
    "\n",
    "# Full run preparation\n",
    "run8 = pipeline.prepare_run(run8, n_batches=1, batch_size=20, flag_plot=False)"
   ]
  },
  {
   "cell_type": "code",
   "execution_count": null,
   "id": "f6282b29",
   "metadata": {},
   "outputs": [],
   "source": [
    "# Inspect prepared sets\n",
    "for i, s in enumerate(run8.sets):\n",
    "    print(f\"{i}: {s.source_dir.name}\")\n",
    "    print(f\"   t_s1: {s.metadata['t_s1']:.3f} µs\")\n",
    "    print(f\"   Drift field: {s.drift_field:.1f} V/cm\")\n",
    "    print(f\"   Drift time: {s.time_drift:.3f} µs\")\n",
    "    print()"
   ]
  },
  {
   "cell_type": "markdown",
   "id": "2a93bb21",
   "metadata": {},
   "source": [
    "### Optional: Manual Adjustment of S1 Times\n",
    "\n",
    "If automatic S1 estimation is off for some sets, adjust manually:"
   ]
  },
  {
   "cell_type": "code",
   "execution_count": null,
   "id": "605890bb",
   "metadata": {},
   "outputs": [],
   "source": [
    "# Example: adjust S1 time for specific sets if needed\n",
    "# run8.sets[2].metadata['t_s1'] = -3.32\n",
    "# run8.sets[4].metadata['t_s1'] = -3.32"
   ]
  },
  {
   "cell_type": "markdown",
   "id": "38ecf1ea",
   "metadata": {},
   "source": [
    "### Visualize S2 Windows\n",
    "\n",
    "Check that S2 integration windows are correctly positioned:"
   ]
  },
  {
   "cell_type": "code",
   "execution_count": null,
   "id": "06385995",
   "metadata": {},
   "outputs": [],
   "source": [
    "# Plot S2 windows for visual verification\n",
    "plotting.plot_run_winS2(run8, ts2_tol=-2.7)"
   ]
  },
  {
   "cell_type": "markdown",
   "id": "17e28b57",
   "metadata": {},
   "source": [
    "## 3. X-ray Event Classification\n",
    "\n",
    "Classify X-ray events in the drift region for energy calibration.\n",
    "\n",
    "**Testing mode**: Set `nfiles` to process only a subset of files."
   ]
  },
  {
   "cell_type": "code",
   "execution_count": null,
   "id": "489ef4ab",
   "metadata": {},
   "outputs": [],
   "source": [
    "# Define integration configuration\n",
    "xray_config = IntegrationConfig(\n",
    "    bs_threshold = 2.0,        # mV\n",
    "    max_area_s2 = 1e5,         # mV·µs\n",
    "    min_s2_sep = 1.0,          # µs\n",
    "    min_s1_sep = 1.0,          # µs\n",
    "    n_pedestal = 200,          # samples\n",
    "    ma_window = 10,            # samples\n",
    "    dt = 2e-4,                 # µs\n",
    ")"
   ]
  },
  {
   "cell_type": "code",
   "execution_count": null,
   "id": "dfa17156",
   "metadata": {},
   "outputs": [],
   "source": [
    "# For testing: uncomment to process subset\n",
    "# xray_results = pipeline.run_xray_classification(\n",
    "#     run8, \n",
    "#     ts2_tol=-0.2, \n",
    "#     range_sets=slice(0, 2),  # Process only first 2 sets\n",
    "#     config=xray_config,\n",
    "#     nfiles=5                  # Only 5 files per set\n",
    "# )\n",
    "\n",
    "# Full X-ray classification\n",
    "xray_results = pipeline.run_xray_classification(\n",
    "    run8, \n",
    "    ts2_tol=-0.2, \n",
    "    config=xray_config\n",
    ")"
   ]
  },
  {
   "cell_type": "markdown",
   "id": "91b07d9a",
   "metadata": {},
   "source": [
    "## 4. Ion S2 Integration\n",
    "\n",
    "Integrate Ra recoil S2 signals and fit Gaussian distributions.\n",
    "\n",
    "**Testing mode**: Set `nfiles` to process only a subset of files."
   ]
  },
  {
   "cell_type": "code",
   "execution_count": null,
   "id": "8d5ec781",
   "metadata": {},
   "outputs": [],
   "source": [
    "# Define integration and fitting configurations\n",
    "ion_int_config = IntegrationConfig(\n",
    "    bs_threshold = 0.8,        # mV\n",
    "    n_pedestal = 2000,         # samples\n",
    "    ma_window = 9,             # samples\n",
    "    dt = 2e-4,                 # µs\n",
    ")\n",
    "\n",
    "ion_fit_config = FitConfig(\n",
    "    bin_cuts = (0, 10),        # mV·µs\n",
    "    nbins = 100,\n",
    "    exclude_index = 1,\n",
    ")"
   ]
  },
  {
   "cell_type": "code",
   "execution_count": null,
   "id": "f6306fe3",
   "metadata": {},
   "outputs": [],
   "source": [
    "# For testing: uncomment to process subset\n",
    "# ion_fitted = pipeline.run_ion_integration(\n",
    "#     run8,\n",
    "#     ts2_tol=-2.7,\n",
    "#     range_sets=slice(0, 2),    # Process only first 2 sets\n",
    "#     integration_config=ion_int_config,\n",
    "#     fit_config=ion_fit_config,\n",
    "#     nfiles=10                   # Only 10 files per set\n",
    "# )\n",
    "\n",
    "# Full ion S2 integration\n",
    "ion_fitted = pipeline.run_ion_integration(\n",
    "    run8,\n",
    "    ts2_tol=-2.7,\n",
    "    integration_config=ion_int_config,\n",
    "    fit_config=ion_fit_config\n",
    ")"
   ]
  },
  {
   "cell_type": "markdown",
   "id": "39c07159",
   "metadata": {},
   "source": [
    "### Visualize Ion S2 Fits"
   ]
  },
  {
   "cell_type": "code",
   "execution_count": null,
   "id": "632bf40d",
   "metadata": {},
   "outputs": [],
   "source": [
    "# Plot histograms and fits for each set\n",
    "for set_id, fit in ion_fitted.items():\n",
    "    plotting.plot_hist_fit(fit, bin_cuts=(0, 10))"
   ]
  },
  {
   "cell_type": "code",
   "execution_count": null,
   "id": "12d573eb",
   "metadata": {},
   "outputs": [],
   "source": [
    "# Plot S2 area vs drift field\n",
    "plotting.plot_s2_vs_drift(fitted=ion_fitted, run=run8)"
   ]
  },
  {
   "cell_type": "markdown",
   "id": "670d520a",
   "metadata": {},
   "source": [
    "## 5. Calibration and Recombination Analysis\n",
    "\n",
    "Use X-ray data to calibrate the energy scale and compute electron recombination fractions."
   ]
  },
  {
   "cell_type": "code",
   "execution_count": null,
   "id": "38d7e7c9",
   "metadata": {},
   "outputs": [],
   "source": [
    "# Run complete calibration analysis\n",
    "calib_results, recomb_results = pipeline.run_calibration_analysis(\n",
    "    run8,\n",
    "    ion_fitted,\n",
    "    xray_bin_cuts=(0.6, 20),\n",
    "    xray_nbins=100,\n",
    "    flag_plot=True\n",
    ")"
   ]
  },
  {
   "cell_type": "markdown",
   "id": "edde8d3f",
   "metadata": {},
   "source": [
    "### Display Results"
   ]
  },
  {
   "cell_type": "code",
   "execution_count": null,
   "id": "a49c70e0",
   "metadata": {},
   "outputs": [],
   "source": [
    "print(\"Calibration Constants:\")\n",
    "print(f\"  X-ray mean area (A_x): {calib_results.A_x_mean:.3f} mV·µs\")\n",
    "print(f\"  Expected electrons (N_e_exp): {calib_results.N_e_exp:.1f}\")\n",
    "print(f\"  Gain factor (g_S2): {calib_results.g_S2:.4f} mV·µs/electron\")\n",
    "print()\n",
    "print(\"Recombination Results:\")\n",
    "for i, Ed in enumerate(recomb_results['drift_fields']):\n",
    "    print(f\"  {Ed:.0f} V/cm: r = {recomb_results['r'][i]:.3f} ± {recomb_results['dr'][i]:.3f}\")"
   ]
  },
  {
   "cell_type": "markdown",
   "id": "918615ea",
   "metadata": {},
   "source": [
    "## 6. Export Results (Optional)"
   ]
  },
  {
   "cell_type": "code",
   "execution_count": null,
   "id": "3e783cf0",
   "metadata": {},
   "outputs": [],
   "source": [
    "# Save calibration results\n",
    "results_dict = {\n",
    "    'calibration': {\n",
    "        'A_x_mean': calib_results.A_x_mean,\n",
    "        'N_e_exp': calib_results.N_e_exp,\n",
    "        'g_S2': calib_results.g_S2,\n",
    "    },\n",
    "    'recombination': recomb_results\n",
    "}\n",
    "\n",
    "# Uncomment to save\n",
    "# import pickle\n",
    "# with open(base_dir / f'{run8.run_id}_analysis_results.pkl', 'wb') as f:\n",
    "#     pickle.dump(results_dict, f)\n",
    "# print(f\"Results saved to {base_dir / f'{run8.run_id}_analysis_results.pkl'}\")"
   ]
  }
 ],
 "metadata": {
  "language_info": {
   "name": "python"
  }
 },
 "nbformat": 4,
 "nbformat_minor": 5
}
