{
 "cells": [
  {
   "cell_type": "code",
   "execution_count": 1,
   "id": "541c54e5",
   "metadata": {},
   "outputs": [],
   "source": [
    "%load_ext autoreload\n",
    "%autoreload 2"
   ]
  },
  {
   "cell_type": "code",
   "execution_count": 5,
   "id": "84ca2ae2",
   "metadata": {},
   "outputs": [],
   "source": [
    "import numpy as np\n",
    "import matplotlib.pyplot as plt\n",
    "import pandas as pd\n",
    "from glob import glob\n",
    "from RaTag.scripts.wfm2read_fast import wfm2read\n",
    "# from RaTag.scripts.wfm2spectra import alpha_peak"
   ]
  },
  {
   "cell_type": "markdown",
   "id": "2a1775f4",
   "metadata": {},
   "source": [
    "# Analyse Silicon detector data"
   ]
  },
  {
   "cell_type": "code",
   "execution_count": null,
   "id": "4b19351a",
   "metadata": {},
   "outputs": [],
   "source": []
  },
  {
   "cell_type": "code",
   "execution_count": 7,
   "id": "b4e10fa5",
   "metadata": {},
   "outputs": [
    {
     "name": "stdout",
     "output_type": "stream",
     "text": [
      "Analysing 291 files\n"
     ]
    }
   ],
   "source": [
    "pathNoSCA = r'E:\\Pablos_Mighty_measurements\\RUN8\\Ch4_NoSCA'\n",
    "filesNoSCA = sorted(glob(pathNoSCA + '\\*.wfm'))\n",
    "print(\"Analysing {} files\".format(len(filesNoSCA)) )\n",
    "# noSca_peaks = np.array([alpha_peak(f) for f in filesNoSCA])"
   ]
  },
  {
   "cell_type": "code",
   "execution_count": 9,
   "id": "c042c808",
   "metadata": {},
   "outputs": [
    {
     "data": {
      "text/plain": [
       "(50000,)"
      ]
     },
     "execution_count": 9,
     "metadata": {},
     "output_type": "execute_result"
    }
   ],
   "source": [
    "wf = wfm2read(filesNoSCA[0])\n",
    "V, t = wf[0], wf[1]\n",
    "V.shape"
   ]
  },
  {
   "cell_type": "code",
   "execution_count": 17,
   "id": "94c80dfa",
   "metadata": {},
   "outputs": [
    {
     "data": {
      "text/plain": [
       "Text(0.5, 0, 'Peak Voltage (V)')"
      ]
     },
     "execution_count": 17,
     "metadata": {},
     "output_type": "execute_result"
    },
    {
     "data": {
      "image/png": "[encoded data removed]",
      "text/plain": [
       "<Figure size 432x288 with 1 Axes>"
      ]
     },
     "metadata": {
      "needs_background": "light"
     },
     "output_type": "display_data"
    }
   ],
   "source": [
    "noSca_peaks_cut = noSca_peaks[(noSca_peaks > 3.3) & (noSca_peaks < 4.5)]\n",
    "n, bins, _ = plt.hist(noSca_peaks_cut, bins=100);\n",
    "plt.xlabel('Peak Voltage (V)')"
   ]
  },
  {
   "cell_type": "code",
   "execution_count": 19,
   "id": "5d64c9e3",
   "metadata": {},
   "outputs": [
    {
     "data": {
      "text/plain": [
       "100"
      ]
     },
     "execution_count": 19,
     "metadata": {},
     "output_type": "execute_result"
    }
   ],
   "source": [
    "len(n)"
   ]
  }
 ],
 "metadata": {
  "kernelspec": {
   "display_name": "base",
   "language": "python",
   "name": "python3"
  },
  "language_info": {
   "codemirror_mode": {
    "name": "ipython",
    "version": 3
   },
   "file_extension": ".py",
   "mimetype": "text/x-python",
   "name": "python",
   "nbconvert_exporter": "python",
   "pygments_lexer": "ipython3",
   "version": "3.7.6"
  }
 },
 "nbformat": 4,
 "nbformat_minor": 5
}
